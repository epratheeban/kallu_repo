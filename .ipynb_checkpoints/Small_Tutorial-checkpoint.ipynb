{
 "cells": [
  {
   "cell_type": "code",
   "execution_count": 1,
   "metadata": {
    "collapsed": true
   },
   "outputs": [],
   "source": [
    "import numpy as np\n",
    "from datetime import datetime\n",
    "import scipy.io as sio\n",
    "import pandas as pd\n",
    "import matplotlib.pyplot as plt"
   ]
  },
  {
   "cell_type": "code",
   "execution_count": null,
   "metadata": {},
   "outputs": [],
   "source": [
    "dframe = pd.read_csv('Dataset1.csv',sep=',',parse_dates=[0])\n",
    "dframe.head()"
   ]
  },
  {
   "cell_type": "code",
   "execution_count": null,
   "metadata": {
    "collapsed": true,
    "scrolled": false
   },
   "outputs": [],
   "source": []
  },
  {
   "cell_type": "code",
   "execution_count": null,
   "metadata": {},
   "outputs": [],
   "source": [
    "dframe.tail()"
   ]
  },
  {
   "cell_type": "code",
   "execution_count": null,
   "metadata": {},
   "outputs": [],
   "source": [
    "dframe.shape"
   ]
  },
  {
   "cell_type": "code",
   "execution_count": null,
   "metadata": {},
   "outputs": [],
   "source": [
    "dframe['Date/Time'][0] # show the first row first column values ... That is the date and time. "
   ]
  },
  {
   "cell_type": "markdown",
   "metadata": {},
   "source": []
  },
  {
   "cell_type": "code",
   "execution_count": null,
   "metadata": {},
   "outputs": [],
   "source": [
    "dframe.columns"
   ]
  },
  {
   "cell_type": "code",
   "execution_count": null,
   "metadata": {},
   "outputs": [],
   "source": [
    "dframe.dtypes"
   ]
  },
  {
   "cell_type": "code",
   "execution_count": null,
   "metadata": {},
   "outputs": [],
   "source": [
    "dframe.values"
   ]
  },
  {
   "cell_type": "code",
   "execution_count": null,
   "metadata": {
    "scrolled": true
   },
   "outputs": [],
   "source": [
    "dframe.describe()"
   ]
  },
  {
   "cell_type": "code",
   "execution_count": null,
   "metadata": {},
   "outputs": [],
   "source": [
    "dframe.head(25)"
   ]
  },
  {
   "cell_type": "markdown",
   "metadata": {},
   "source": [
    "## selecting columns and rows  in Pandas \n",
    "\n",
    "The key syntax is here \n",
    " ## ``` df2=dframe.set_index(\"Date\\Time\") ```  \n",
    " ### -- > This set Date\\time as Index.  \n",
    " \n",
    " \n",
    " ## ```df2.loc[startrow:endrow,startcolumn:endcolumn] ```\n",
    " ### -- > By this we select the data we want to take. \n",
    " \n",
    " The below example shows the values of first 4 columns and choose time interval "
   ]
  },
  {
   "cell_type": "code",
   "execution_count": null,
   "metadata": {
    "collapsed": true
   },
   "outputs": [],
   "source": [
    "df2=dframe.set_index(\"Date/Time\")"
   ]
  },
  {
   "cell_type": "code",
   "execution_count": null,
   "metadata": {},
   "outputs": [],
   "source": [
    "df2.loc[\" 01/01  24:00:00\":\" 01/02  10:00:00\", \"Electricity:Facility [kWh](Hourly)\":\"Heating:Gas [kWh](Hourly)\"]"
   ]
  },
  {
   "cell_type": "markdown",
   "metadata": {},
   "source": [
    "### Selecting one column between the selected time "
   ]
  },
  {
   "cell_type": "code",
   "execution_count": null,
   "metadata": {},
   "outputs": [],
   "source": [
    "k=df2.loc[\" 01/01  24:00:00\":\" 01/02  10:00:00\", \"Heating:Gas [kWh](Hourly)\"]\n",
    "k"
   ]
  },
  {
   "cell_type": "code",
   "execution_count": null,
   "metadata": {},
   "outputs": [],
   "source": [
    "k.get_values() # This will give you the values "
   ]
  },
  {
   "cell_type": "code",
   "execution_count": null,
   "metadata": {},
   "outputs": [],
   "source": [
    "k.axes"
   ]
  },
  {
   "cell_type": "code",
   "execution_count": null,
   "metadata": {},
   "outputs": [],
   "source": [
    "k.get_value"
   ]
  },
  {
   "cell_type": "code",
   "execution_count": null,
   "metadata": {},
   "outputs": [],
   "source": [
    "type(k)"
   ]
  },
  {
   "cell_type": "markdown",
   "metadata": {},
   "source": [
    "##  To select one complete row "
   ]
  },
  {
   "cell_type": "code",
   "execution_count": null,
   "metadata": {},
   "outputs": [],
   "source": [
    "row=df2.loc[\" 01/01  24:00:00\"]\n",
    "row"
   ]
  },
  {
   "cell_type": "code",
   "execution_count": null,
   "metadata": {},
   "outputs": [],
   "source": [
    "j = df2.loc[\" 01/01  24:00:00\":\" 01/02  02:00:00\"]\n",
    "j"
   ]
  },
  {
   "cell_type": "code",
   "execution_count": null,
   "metadata": {},
   "outputs": [],
   "source": [
    "j.values"
   ]
  },
  {
   "cell_type": "markdown",
   "metadata": {},
   "source": [
    "## To select one full column "
   ]
  },
  {
   "cell_type": "code",
   "execution_count": null,
   "metadata": {},
   "outputs": [],
   "source": [
    "col1 = df2.loc[:, \"Electricity:Facility [kWh](Hourly)\"]\n",
    "col1"
   ]
  },
  {
   "cell_type": "markdown",
   "metadata": {},
   "source": [
    "## Get data by Month "
   ]
  },
  {
   "cell_type": "code",
   "execution_count": 4,
   "metadata": {
    "collapsed": true
   },
   "outputs": [],
   "source": [
    "def getMonthlyData(filename,Monthname=None):\n",
    "    \n",
    "    data = pd.read_csv(filename,sep=',',parse_dates=[0])\n",
    "    df=data.set_index(\"Date/Time\")\n",
    "    if Monthname == 'Jan':\n",
    "        Jan = df.loc[\" 01/01  01:00:00\":\" 01/31  24:00:00\",]\n",
    "    return Jan\n",
    "    if Monthname == 'Feb':\n",
    "        Feb = df.loc[\" 02/01  01:00:00\":\" 02/28  24:00:00\",]\n",
    "    return Feb\n",
    "    \n",
    "    if Monthname == 'Mar':\n",
    "        Mar = df.loc[\" 03/01  01:00:00\":\" 03/31  24:00:00\",]\n",
    "    return Mar\n",
    "    if Monthname == 'Apr':\n",
    "        Apr = df.loc[\" 04/01  01:00:00\":\" 04/30  24:00:00\",]\n",
    "    return Apr\n",
    "    if Monthname == 'May':\n",
    "        May = df.loc[\" 05/01  01:00:00\":\" 05/31  24:00:00\",]\n",
    "    if Monthname ==\n",
    "    Jun = df.loc[\" 06/01  01:00:00\":\" 06/30  24:00:00\",]\n",
    "    if Monthname ==\n",
    "    Jul = df.loc[\" 07/01  01:00:00\":\" 07/31  24:00:00\",]\n",
    "    if Monthname ==\n",
    "    Aug = df.loc[\" 08/01  01:00:00\":\" 08/31  24:00:00\",]\n",
    "    if Monthname ==\n",
    "    Sep = df.loc[\" 09/01  01:00:00\":\" 09/30  24:00:00\",]\n",
    "    if Monthname ==\n",
    "    Oct = df.loc[\" 10/01  01:00:00\":\" 10/31  24:00:00\",]\n",
    "    if Monthname ==\n",
    "    Nov = df.loc[\" 11/01  01:00:00\":\" 11/30  24:00:00\",]\n",
    "    if Monthname ==\n",
    "    Dec = df.loc[\" 12/01  01:00:00\":\" 12/31  24:00:00\",] \n",
    "    \n",
    "    return Monthname\n"
   ]
  },
  {
   "cell_type": "markdown",
   "metadata": {},
   "source": [
    "## Get Decemeber and Feb Month data"
   ]
  },
  {
   "cell_type": "code",
   "execution_count": 7,
   "metadata": {},
   "outputs": [
    {
     "data": {
      "text/html": [
       "<div>\n",
       "<style>\n",
       "    .dataframe thead tr:only-child th {\n",
       "        text-align: right;\n",
       "    }\n",
       "\n",
       "    .dataframe thead th {\n",
       "        text-align: left;\n",
       "    }\n",
       "\n",
       "    .dataframe tbody tr th {\n",
       "        vertical-align: top;\n",
       "    }\n",
       "</style>\n",
       "<table border=\"1\" class=\"dataframe\">\n",
       "  <thead>\n",
       "    <tr style=\"text-align: right;\">\n",
       "      <th></th>\n",
       "      <th>Electricity:Facility [kWh](Hourly)</th>\n",
       "      <th>Gas:Facility [kWh](Hourly)</th>\n",
       "      <th>Heating:Electricity [kWh](Hourly)</th>\n",
       "      <th>Heating:Gas [kWh](Hourly)</th>\n",
       "      <th>Cooling:Electricity [kWh](Hourly)</th>\n",
       "      <th>HVACFan:Fans:Electricity [kWh](Hourly)</th>\n",
       "      <th>Electricity:HVAC [kWh](Hourly)</th>\n",
       "      <th>Fans:Electricity [kWh](Hourly)</th>\n",
       "      <th>General:InteriorLights:Electricity [kWh](Hourly)</th>\n",
       "      <th>General:ExteriorLights:Electricity [kWh](Hourly)</th>\n",
       "      <th>Appl:InteriorEquipment:Electricity [kWh](Hourly)</th>\n",
       "      <th>Misc:InteriorEquipment:Electricity [kWh](Hourly)</th>\n",
       "      <th>Water Heater:WaterSystems:Gas [kWh](Hourly)</th>\n",
       "    </tr>\n",
       "    <tr>\n",
       "      <th>Date/Time</th>\n",
       "      <th></th>\n",
       "      <th></th>\n",
       "      <th></th>\n",
       "      <th></th>\n",
       "      <th></th>\n",
       "      <th></th>\n",
       "      <th></th>\n",
       "      <th></th>\n",
       "      <th></th>\n",
       "      <th></th>\n",
       "      <th></th>\n",
       "      <th></th>\n",
       "      <th></th>\n",
       "    </tr>\n",
       "  </thead>\n",
       "  <tbody>\n",
       "    <tr>\n",
       "      <th>01/01  01:00:00</th>\n",
       "      <td>1.084667</td>\n",
       "      <td>13.667359</td>\n",
       "      <td>0.0</td>\n",
       "      <td>13.215749</td>\n",
       "      <td>0.0</td>\n",
       "      <td>0.363873</td>\n",
       "      <td>0.363873</td>\n",
       "      <td>0.363873</td>\n",
       "      <td>0.161613</td>\n",
       "      <td>0.035211</td>\n",
       "      <td>0.092943</td>\n",
       "      <td>0.413915</td>\n",
       "      <td>0.423100</td>\n",
       "    </tr>\n",
       "    <tr>\n",
       "      <th>01/01  02:00:00</th>\n",
       "      <td>0.964368</td>\n",
       "      <td>13.983217</td>\n",
       "      <td>0.0</td>\n",
       "      <td>13.625291</td>\n",
       "      <td>0.0</td>\n",
       "      <td>0.375149</td>\n",
       "      <td>0.375149</td>\n",
       "      <td>0.375149</td>\n",
       "      <td>0.094274</td>\n",
       "      <td>0.020540</td>\n",
       "      <td>0.076186</td>\n",
       "      <td>0.381107</td>\n",
       "      <td>0.331676</td>\n",
       "    </tr>\n",
       "    <tr>\n",
       "      <th>01/01  03:00:00</th>\n",
       "      <td>0.918718</td>\n",
       "      <td>14.154207</td>\n",
       "      <td>0.0</td>\n",
       "      <td>13.822600</td>\n",
       "      <td>0.0</td>\n",
       "      <td>0.380582</td>\n",
       "      <td>0.380582</td>\n",
       "      <td>0.380582</td>\n",
       "      <td>0.067339</td>\n",
       "      <td>0.014671</td>\n",
       "      <td>0.062327</td>\n",
       "      <td>0.376688</td>\n",
       "      <td>0.305661</td>\n",
       "    </tr>\n",
       "    <tr>\n",
       "      <th>01/01  04:00:00</th>\n",
       "      <td>0.905461</td>\n",
       "      <td>14.175250</td>\n",
       "      <td>0.0</td>\n",
       "      <td>13.836962</td>\n",
       "      <td>0.0</td>\n",
       "      <td>0.380977</td>\n",
       "      <td>0.380977</td>\n",
       "      <td>0.380977</td>\n",
       "      <td>0.067339</td>\n",
       "      <td>0.014671</td>\n",
       "      <td>0.053976</td>\n",
       "      <td>0.371386</td>\n",
       "      <td>0.312708</td>\n",
       "    </tr>\n",
       "    <tr>\n",
       "      <th>01/01  05:00:00</th>\n",
       "      <td>0.905036</td>\n",
       "      <td>14.312042</td>\n",
       "      <td>0.0</td>\n",
       "      <td>13.900781</td>\n",
       "      <td>0.0</td>\n",
       "      <td>0.382734</td>\n",
       "      <td>0.382734</td>\n",
       "      <td>0.382734</td>\n",
       "      <td>0.067339</td>\n",
       "      <td>0.014671</td>\n",
       "      <td>0.065823</td>\n",
       "      <td>0.357356</td>\n",
       "      <td>0.386647</td>\n",
       "    </tr>\n",
       "  </tbody>\n",
       "</table>\n",
       "</div>"
      ],
      "text/plain": [
       "                  Electricity:Facility [kWh](Hourly)  \\\n",
       "Date/Time                                              \n",
       " 01/01  01:00:00                            1.084667   \n",
       " 01/01  02:00:00                            0.964368   \n",
       " 01/01  03:00:00                            0.918718   \n",
       " 01/01  04:00:00                            0.905461   \n",
       " 01/01  05:00:00                            0.905036   \n",
       "\n",
       "                  Gas:Facility [kWh](Hourly)  \\\n",
       "Date/Time                                      \n",
       " 01/01  01:00:00                   13.667359   \n",
       " 01/01  02:00:00                   13.983217   \n",
       " 01/01  03:00:00                   14.154207   \n",
       " 01/01  04:00:00                   14.175250   \n",
       " 01/01  05:00:00                   14.312042   \n",
       "\n",
       "                  Heating:Electricity [kWh](Hourly)  \\\n",
       "Date/Time                                             \n",
       " 01/01  01:00:00                                0.0   \n",
       " 01/01  02:00:00                                0.0   \n",
       " 01/01  03:00:00                                0.0   \n",
       " 01/01  04:00:00                                0.0   \n",
       " 01/01  05:00:00                                0.0   \n",
       "\n",
       "                  Heating:Gas [kWh](Hourly)  \\\n",
       "Date/Time                                     \n",
       " 01/01  01:00:00                  13.215749   \n",
       " 01/01  02:00:00                  13.625291   \n",
       " 01/01  03:00:00                  13.822600   \n",
       " 01/01  04:00:00                  13.836962   \n",
       " 01/01  05:00:00                  13.900781   \n",
       "\n",
       "                  Cooling:Electricity [kWh](Hourly)  \\\n",
       "Date/Time                                             \n",
       " 01/01  01:00:00                                0.0   \n",
       " 01/01  02:00:00                                0.0   \n",
       " 01/01  03:00:00                                0.0   \n",
       " 01/01  04:00:00                                0.0   \n",
       " 01/01  05:00:00                                0.0   \n",
       "\n",
       "                  HVACFan:Fans:Electricity [kWh](Hourly)  \\\n",
       "Date/Time                                                  \n",
       " 01/01  01:00:00                                0.363873   \n",
       " 01/01  02:00:00                                0.375149   \n",
       " 01/01  03:00:00                                0.380582   \n",
       " 01/01  04:00:00                                0.380977   \n",
       " 01/01  05:00:00                                0.382734   \n",
       "\n",
       "                  Electricity:HVAC [kWh](Hourly)  \\\n",
       "Date/Time                                          \n",
       " 01/01  01:00:00                        0.363873   \n",
       " 01/01  02:00:00                        0.375149   \n",
       " 01/01  03:00:00                        0.380582   \n",
       " 01/01  04:00:00                        0.380977   \n",
       " 01/01  05:00:00                        0.382734   \n",
       "\n",
       "                  Fans:Electricity [kWh](Hourly)  \\\n",
       "Date/Time                                          \n",
       " 01/01  01:00:00                        0.363873   \n",
       " 01/01  02:00:00                        0.375149   \n",
       " 01/01  03:00:00                        0.380582   \n",
       " 01/01  04:00:00                        0.380977   \n",
       " 01/01  05:00:00                        0.382734   \n",
       "\n",
       "                  General:InteriorLights:Electricity [kWh](Hourly)  \\\n",
       "Date/Time                                                            \n",
       " 01/01  01:00:00                                          0.161613   \n",
       " 01/01  02:00:00                                          0.094274   \n",
       " 01/01  03:00:00                                          0.067339   \n",
       " 01/01  04:00:00                                          0.067339   \n",
       " 01/01  05:00:00                                          0.067339   \n",
       "\n",
       "                  General:ExteriorLights:Electricity [kWh](Hourly)  \\\n",
       "Date/Time                                                            \n",
       " 01/01  01:00:00                                          0.035211   \n",
       " 01/01  02:00:00                                          0.020540   \n",
       " 01/01  03:00:00                                          0.014671   \n",
       " 01/01  04:00:00                                          0.014671   \n",
       " 01/01  05:00:00                                          0.014671   \n",
       "\n",
       "                  Appl:InteriorEquipment:Electricity [kWh](Hourly)  \\\n",
       "Date/Time                                                            \n",
       " 01/01  01:00:00                                          0.092943   \n",
       " 01/01  02:00:00                                          0.076186   \n",
       " 01/01  03:00:00                                          0.062327   \n",
       " 01/01  04:00:00                                          0.053976   \n",
       " 01/01  05:00:00                                          0.065823   \n",
       "\n",
       "                  Misc:InteriorEquipment:Electricity [kWh](Hourly)  \\\n",
       "Date/Time                                                            \n",
       " 01/01  01:00:00                                          0.413915   \n",
       " 01/01  02:00:00                                          0.381107   \n",
       " 01/01  03:00:00                                          0.376688   \n",
       " 01/01  04:00:00                                          0.371386   \n",
       " 01/01  05:00:00                                          0.357356   \n",
       "\n",
       "                  Water Heater:WaterSystems:Gas [kWh](Hourly)   \n",
       "Date/Time                                                       \n",
       " 01/01  01:00:00                                      0.423100  \n",
       " 01/01  02:00:00                                      0.331676  \n",
       " 01/01  03:00:00                                      0.305661  \n",
       " 01/01  04:00:00                                      0.312708  \n",
       " 01/01  05:00:00                                      0.386647  "
      ]
     },
     "execution_count": 7,
     "metadata": {},
     "output_type": "execute_result"
    }
   ],
   "source": [
    "December = getMonthlyData(filename = \"Dataset1.csv\",Monthname='Jan')\n",
    "December.head(5) # remove .head(5) to see the full month data "
   ]
  },
  {
   "cell_type": "code",
   "execution_count": null,
   "metadata": {},
   "outputs": [],
   "source": [
    "Febraury = getMonthlyData(filename = \"Dataset1.csv\",Monthname=Feb)\n",
    "Febraury.head(5)"
   ]
  },
  {
   "cell_type": "code",
   "execution_count": null,
   "metadata": {},
   "outputs": [],
   "source": [
    "def getDayData(filename, Monthname, day= None):\n",
    "    Month = getMonthlyData(filename, Monthname) \n",
    "    print Month\n",
    "    day01 = Month.iloc[0:24,]\n",
    "    day02 = Month.iloc[25:48,]\n",
    "    day03 = Month.iloc[25:72,]\n",
    "    day04 = Month.iloc[25:96,]\n",
    "    day05 = Month.iloc[25:120,]\n",
    "    day06 = Month.iloc[25:144,]\n",
    "    day07 = Month.iloc[25:168,]\n",
    "    day08 = Month.iloc[25:192,]\n",
    "    day09 = Month.iloc[25:216,]\n",
    "    day10 = Month.iloc[25:240,]\n",
    "    day11 = Month.iloc[25:264,]\n",
    "    day12 = Month.iloc[25:288,]\n",
    "    day13 = Month.iloc[25:312,]\n",
    "    day14 = Month.iloc[25:336,]\n",
    "    day15 = Month.iloc[25:360,]\n",
    "    day16 = Month.iloc[25:384,]\n",
    "    day17 = Month.iloc[25:408,]\n",
    "    day18 = Month.iloc[25:432,]\n",
    "    day19 = Month.iloc[25:456,]\n",
    "    day20 = Month.iloc[25:480,]\n",
    "    day21 = Month.iloc[25:504,]\n",
    "    day22 = Month.iloc[25:528,]\n",
    "    day23 = Month.iloc[25:552,]\n",
    "    day24 = Month.iloc[25:576,]\n",
    "    day25 = Month.iloc[25:600,]\n",
    "    day26 = Month.iloc[25:624,]\n",
    "    day27 = Month.iloc[25:648,]\n",
    "    day28 = Month.iloc[25:672,]\n",
    "    day29 = Month.iloc[25:696,]\n",
    "    day30 = Month.iloc[25:720,]\n",
    "    day31 = Month.iloc[25:744,]\n",
    "    \n",
    "    return day\n"
   ]
  },
  {
   "cell_type": "code",
   "execution_count": null,
   "metadata": {},
   "outputs": [],
   "source": [
    "day01 = getDayData(filename = 'Dataset1.csv', Monthname = Dec, day = day01)"
   ]
  },
  {
   "cell_type": "code",
   "execution_count": null,
   "metadata": {},
   "outputs": [],
   "source": []
  },
  {
   "cell_type": "code",
   "execution_count": null,
   "metadata": {
    "collapsed": true
   },
   "outputs": [],
   "source": []
  }
 ],
 "metadata": {
  "kernelspec": {
   "display_name": "Python 2",
   "language": "python",
   "name": "python2"
  },
  "language_info": {
   "codemirror_mode": {
    "name": "ipython",
    "version": 2
   },
   "file_extension": ".py",
   "mimetype": "text/x-python",
   "name": "python",
   "nbconvert_exporter": "python",
   "pygments_lexer": "ipython2",
   "version": "2.7.13"
  }
 },
 "nbformat": 4,
 "nbformat_minor": 2
}
